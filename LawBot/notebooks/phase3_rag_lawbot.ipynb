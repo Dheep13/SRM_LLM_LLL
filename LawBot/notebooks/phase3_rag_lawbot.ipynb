{
  "cells": [
    {
      "cell_type": "markdown",
      "metadata": {},
      "source": [
        "# Phase 3: RAG with History-Aware Retrieval\n",
        "\n",
        "## Objectives:\n",
        "1. Collect and chunk Indian legal documents\n",
        "2. Generate embeddings using sentence-transformers\n",
        "3. Build FAISS vector index\n",
        "4. Implement retrieval pipeline with LangChain\n",
        "5. Test grounded responses with citations\n"
      ]
    },
    {
      "cell_type": "code",
      "execution_count": null,
      "metadata": {},
      "outputs": [],
      "source": [
        "# Install dependencies\n",
        "%pip install sentence-transformers faiss-cpu langchain langchain-community chromadb\n",
        "\n",
        "# Import libraries\n",
        "from sentence_transformers import SentenceTransformer\n",
        "import faiss\n",
        "import numpy as np\n",
        "from langchain.text_splitter import RecursiveCharacterTextSplitter\n",
        "from langchain.embeddings import HuggingFaceEmbeddings\n",
        "from langchain.vectorstores import FAISS\n",
        "from langchain.chains import RetrievalQA\n",
        "import json\n",
        "import pickle\n"
      ]
    },
    {
      "cell_type": "markdown",
      "metadata": {},
      "source": [
        "## Step 1: Load Legal Documents\n"
      ]
    },
    {
      "cell_type": "code",
      "execution_count": null,
      "metadata": {},
      "outputs": [],
      "source": [
        "# Load cleaned legal Q&A as base knowledge documents\n",
        "def load_legal_documents():\n",
        "    \"\"\"Load legal documents for RAG\"\"\"\n",
        "    documents = []\n",
        "    \n",
        "    # Load the cleaned dataset\n",
        "    with open('../data/processed/lawbot_cleaned.jsonl', 'r', encoding='utf-8') as f:\n",
        "        for line in f:\n",
        "            item = json.loads(line)\n",
        "            # Create document with both question and answer as context\n",
        "            doc_text = f\"Question: {item['instruction']}\\nAnswer: {item['output']}\\nSource: {item['source']}\"\n",
        "            documents.append({\n",
        "                'text': doc_text,\n",
        "                'source': item['source'],\n",
        "                'metadata': {'instruction': item['instruction'], 'output': item['output']}\n",
        "            })\n",
        "    \n",
        "    print(f\"Loaded {len(documents)} legal documents\")\n",
        "    return documents\n",
        "\n",
        "documents = load_legal_documents()\n",
        "print(f\"Sample document: {documents[0]['text'][:200]}\")\n"
      ]
    },
    {
      "cell_type": "markdown",
      "metadata": {},
      "source": [
        "## Step 2: Chunk Documents\n"
      ]
    },
    {
      "cell_type": "code",
      "execution_count": null,
      "metadata": {},
      "outputs": [],
      "source": [
        "# Chunk documents into smaller pieces (600-1000 tokens)\n",
        "text_splitter = RecursiveCharacterTextSplitter(\n",
        "    chunk_size=800,  # Approximate tokens\n",
        "    chunk_overlap=100,  # Overlap for context preservation\n",
        "    separators=[\"\\n\\n\", \"\\n\", \".\", \" \", \"\"]\n",
        ")\n",
        "\n",
        "chunks = []\n",
        "metadata_list = []\n",
        "\n",
        "for doc in documents:\n",
        "    doc_chunks = text_splitter.split_text(doc['text'])\n",
        "    for chunk in doc_chunks:\n",
        "        chunks.append(chunk)\n",
        "        metadata_list.append({\n",
        "            'source': doc['source'],\n",
        "            'instruction': doc['metadata']['instruction'],\n",
        "            'output': doc['metadata']['output']\n",
        "        })\n",
        "\n",
        "print(f\"Total chunks created: {len(chunks)}\")\n",
        "print(f\"Average chunk length: {np.mean([len(c) for c in chunks]):.0f} characters\")\n",
        "print(f\"\\nSample chunk:\\n{chunks[0][:300]}\")\n"
      ]
    },
    {
      "cell_type": "markdown",
      "metadata": {},
      "source": [
        "## Step 3: Generate Embeddings\n"
      ]
    },
    {
      "cell_type": "code",
      "execution_count": null,
      "metadata": {},
      "outputs": [],
      "source": [
        "# Load sentence transformer model\n",
        "embedding_model = SentenceTransformer('all-MiniLM-L6-v2')\n",
        "print(f\"Embedding model: all-MiniLM-L6-v2\")\n",
        "print(f\"Embedding dimension: {embedding_model.get_sentence_embedding_dimension()}\")\n",
        "\n",
        "# Generate embeddings for all chunks\n",
        "print(\"Generating embeddings...\")\n",
        "embeddings = embedding_model.encode(chunks, show_progress_bar=True, batch_size=32)\n",
        "\n",
        "print(f\"Embeddings shape: {embeddings.shape}\")\n",
        "print(f\"Embedding dimension: {embeddings.shape[1]}\")\n"
      ]
    },
    {
      "cell_type": "markdown",
      "metadata": {},
      "source": [
        "## Step 4: Build FAISS Index\n"
      ]
    },
    {
      "cell_type": "code",
      "execution_count": null,
      "metadata": {},
      "outputs": [],
      "source": [
        "# Create FAISS index\n",
        "dimension = embeddings.shape[1]\n",
        "index = faiss.IndexFlatL2(dimension)  # L2 distance for similarity search\n",
        "\n",
        "# Convert to float32 for FAISS\n",
        "embeddings_f32 = embeddings.astype('float32')\n",
        "\n",
        "# Add embeddings to index\n",
        "index.add(embeddings_f32)\n",
        "\n",
        "print(f\"FAISS index created with {index.ntotal} vectors\")\n",
        "print(f\"Index dimension: {dimension}\")\n"
      ]
    },
    {
      "cell_type": "markdown",
      "metadata": {},
      "source": [
        "## Step 5: Save FAISS Index\n"
      ]
    },
    {
      "cell_type": "code",
      "execution_count": null,
      "metadata": {},
      "outputs": [],
      "source": [
        "# Save FAISS index\n",
        "import os\n",
        "os.makedirs('../vectorstore/faiss_index', exist_ok=True)\n",
        "\n",
        "faiss.write_index(index, '../vectorstore/faiss_index/faiss_index.idx')\n",
        "\n",
        "# Save chunks and metadata\n",
        "with open('../vectorstore/faiss_index/chunks.pkl', 'wb') as f:\n",
        "    pickle.dump(chunks, f)\n",
        "\n",
        "with open('../vectorstore/faiss_index/metadata.pkl', 'wb') as f:\n",
        "    pickle.dump(metadata_list, f)\n",
        "\n",
        "# Save embedding model path\n",
        "with open('../vectorstore/faiss_index/config.json', 'w') as f:\n",
        "    json.dump({\n",
        "        'model_name': 'all-MiniLM-L6-v2',\n",
        "        'dimension': dimension,\n",
        "        'num_vectors': len(chunks),\n",
        "        'chunk_size': 800,\n",
        "        'chunk_overlap': 100\n",
        "    }, f, indent=2)\n",
        "\n",
        "print(\"FAISS index and metadata saved successfully!\")\n"
      ]
    },
    {
      "cell_type": "markdown",
      "metadata": {},
      "source": [
        "## Step 6: Implement Retrieval Pipeline\n"
      ]
    },
    {
      "cell_type": "code",
      "execution_count": null,
      "metadata": {},
      "outputs": [],
      "source": [
        "def retrieve_relevant_chunks(query, index, embedding_model, chunks, metadata_list, k=5):\n",
        "    \"\"\"Retrieve top-k relevant chunks for a query\"\"\"\n",
        "    # Encode query\n",
        "    query_embedding = embedding_model.encode([query])\n",
        "    query_embedding = query_embedding.astype('float32')\n",
        "    \n",
        "    # Search in FAISS\n",
        "    distances, indices = index.search(query_embedding, k)\n",
        "    \n",
        "    # Retrieve relevant chunks\n",
        "    relevant_chunks = []\n",
        "    for idx in indices[0]:\n",
        "        relevant_chunks.append({\n",
        "            'chunk': chunks[idx],\n",
        "            'metadata': metadata_list[idx],\n",
        "            'distance': float(distances[0][idx] if idx < len(distances[0]) else float('inf'))\n",
        "        })\n",
        "    \n",
        "    return relevant_chunks\n",
        "\n",
        "# Test retrieval\n",
        "test_query = \"What is the procedure for filing a criminal case?\"\n",
        "results = retrieve_relevant_chunks(test_query, index, embedding_model, chunks, metadata_list, k=5)\n",
        "\n",
        "print(f\"Query: {test_query}\")\n",
        "print(f\"\\nRetrieved {len(results)} relevant chunks:\")\n",
        "for i, result in enumerate(results, 1):\n",
        "    print(f\"\\nChunk {i} (distance: {result['distance']:.4f}):\")\n",
        "    print(f\"Source: {result['metadata']['source']}\")\n",
        "    print(f\"Text: {result['chunk'][:200]}...\")\n"
      ]
    },
    {
      "cell_type": "markdown",
      "metadata": {},
      "source": [
        "## Step 7: Query Reformulation with History\n"
      ]
    },
    {
      "cell_type": "code",
      "execution_count": null,
      "metadata": {},
      "outputs": [],
      "source": [
        "def reformulate_query(query, conversation_history):\n",
        "    \"\"\"Reformulate query based on conversation history\"\"\"\n",
        "    if not conversation_history:\n",
        "        return query\n",
        "    \n",
        "    # Simple reformulation: prepend context from conversation\n",
        "    context = \" \".join([f\"{h['role']}: {h['content']}\" for h in conversation_history[-3:]])  # Last 3 turns\n",
        "    reformulated = f\"{context} Current question: {query}\"\n",
        "    \n",
        "    return reformulated\n",
        "\n",
        "# Test query reformulation\n",
        "conversation_history = [\n",
        "    {\"role\": \"user\", \"content\": \"What is IPC?\"},\n",
        "    {\"role\": \"assistant\", \"content\": \"IPC stands for Indian Penal Code.\"},\n",
        "    {\"role\": \"user\", \"content\": \"What are the main offences?\"}\n",
        "]\n",
        "\n",
        "original_query = \"What are the punishments for theft?\"\n",
        "reformulated = reformulate_query(original_query, conversation_history)\n",
        "\n",
        "print(f\"Original query: {original_query}\")\n",
        "print(f\"\\nReformulated query: {reformulated}\")\n"
      ]
    },
    {
      "cell_type": "markdown",
      "metadata": {},
      "source": [
        "## Step 8: Generate Grounded Responses\n"
      ]
    },
    {
      "cell_type": "code",
      "execution_count": null,
      "metadata": {},
      "outputs": [],
      "source": [
        "def generate_grounded_response(query, conversation_history, index, embedding_model, chunks, metadata_list, k=5):\n",
        "    \"\"\"Generate response with citations from retrieved chunks\"\"\"\n",
        "    # Reformulate query\n",
        "    reformulated_query = reformulate_query(query, conversation_history)\n",
        "    \n",
        "    # Retrieve relevant chunks\n",
        "    retrieved = retrieve_relevant_chunks(reformulated_query, index, embedding_model, chunks, metadata_list, k)\n",
        "    \n",
        "    # Check if we have sufficient evidence\n",
        "    if retrieved and retrieved[0]['distance'] < 2.0:  # Threshold for relevance\n",
        "        # Build context from retrieved chunks\n",
        "        context = \"\\n\\n\".join([f\"[{i+1}] {r['chunk']}\\nSource: {r['metadata']['source']}\" \n",
        "                                for i, r in enumerate(retrieved)])\n",
        "        \n",
        "        # Format response with citations\n",
        "        citations = [r['metadata']['source'] for r in retrieved]\n",
        "        unique_citations = list(set(citations))\n",
        "        \n",
        "        response = {\n",
        "            'answer': f\"Based on the following legal sources: {', '.join(unique_citations)}\",\n",
        "            'context': context,\n",
        "            'citations': unique_citations,\n",
        "            'confidence': 'high' if retrieved[0]['distance'] < 1.0 else 'medium'\n",
        "        }\n",
        "    else:\n",
        "        # Ab-stain response\n",
        "        response = {\n",
        "            'answer': \"I don't have sufficient legal information to provide an accurate answer to this question.\",\n",
        "            'context': '',\n",
        "            'citations': [],\n",
        "            'confidence': 'low'\n",
        "        }\n",
        "    \n",
        "    return response\n",
        "\n",
        "# Test grounded response generation\n",
        "test_queries = [\n",
        "    \"What is the punishment for murder under IPC?\",\n",
        "    \"How do I file a criminal complaint?\",\n",
        "    \"What is the Constitution of India about?\"\n",
        "]\n",
        "\n",
        "for query in test_queries:\n",
        "    response = generate_grounded_response(query, [], index, embedding_model, chunks, metadata_list)\n",
        "    print(f\"\\nQuery: {query}\")\n",
        "    print(f\"Answer: {response['answer']}\")\n",
        "    print(f\"Citations: {response['citations']}\")\n",
        "    print(f\"Confidence: {response['confidence']}\")\n",
        "    if response['context']:\n",
        "        print(f\"Context preview: {response['context'][:200]}...\")\n",
        "    print(\"-\" * 80)\n"
      ]
    },
    {
      "cell_type": "markdown",
      "metadata": {},
      "source": [
        "## Summary\n",
        "\n",
        "Phase 3 completed successfully! RAG pipeline has been:\n",
        "1. ✅ Loaded and chunked legal documents\n",
        "2. ✅ Generated embeddings using sentence-transformers\n",
        "3. ✅ Built FAISS vector index\n",
        "4. ✅ Implemented retrieval with top-k search\n",
        "5. ✅ Added query reformulation with conversation history\n",
        "6. ✅ Generated grounded responses with citations\n",
        "7. ✅ Implemented confidence threshold for abstention\n",
        "\n",
        "**Deliverables:**\n",
        "- `vectorstore/faiss_index/faiss_index.idx` - FAISS vector index\n",
        "- `vectorstore/faiss_index/chunks.pkl` - Document chunks\n",
        "- `vectorstore/faiss_index/metadata.pkl` - Metadata\n",
        "- `vectorstore/faiss_index/config.json` - Configuration\n",
        "- RAG retrieval pipeline ready for integration\n"
      ]
    }
  ],
  "metadata": {
    "language_info": {
      "name": "python"
    }
  },
  "nbformat": 4,
  "nbformat_minor": 2
}
