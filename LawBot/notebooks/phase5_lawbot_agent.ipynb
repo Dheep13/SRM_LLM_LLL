{
  "cells": [
    {
      "cell_type": "markdown",
      "metadata": {},
      "source": [
        "# Phase 5: Tool Calling Integration for LawBot\n",
        "\n",
        "## Objectives:\n",
        "1. Define legal tools: case lookup, legal dictionary, date calculator\n",
        "2. Implement LangChain Agent with tool binding\n",
        "3. Test tool invocation\n",
        "4. Add tool traces for transparency\n"
      ]
    },
    {
      "cell_type": "code",
      "execution_count": null,
      "metadata": {},
      "outputs": [],
      "source": [
        "%pip install langchain langchain-community requests beautifulsoup4\n",
        "\n",
        "from langchain.agents import Tool, AgentExecutor, create_openai_functions_agent\n",
        "from langchain.llms import HuggingFacePipeline\n",
        "from langchain.prompts import PromptTemplate\n",
        "import requests\n",
        "from bs4 import BeautifulSoup\n",
        "from datetime import datetime, timedelta\n",
        "import json\n",
        "\n",
        "print(\"Libraries installed successfully\")\n"
      ]
    },
    {
      "cell_type": "markdown",
      "metadata": {},
      "source": [
        "## Step 1: Define Legal Tools\n"
      ]
    },
    {
      "cell_type": "code",
      "execution_count": null,
      "metadata": {},
      "outputs": [],
      "source": [
        "# Tool 1: Legal Dictionary\n",
        "legal_dictionary = {\n",
        "    \"ipc\": \"Indian Penal Code - Criminal law of India\",\n",
        "    \"crpc\": \"Code of Criminal Procedure - Procedure for criminal cases\",\n",
        "    \"constitution\": \"Constitution of India - Supreme law of India\",\n",
        "    \"bail\": \"Release of accused from custody pending trial\",\n",
        "    \"arrest\": \"Taking of a person into custody for alleged offence\",\n",
        "    \"murder\": \"Causing death with intention under IPC Section 300\",\n",
        "    \"theft\": \"Taking movable property without consent under IPC Section 378\",\n",
        "}\n",
        "\n",
        "def lookup_legal_term(term: str) -> str:\n",
        "    \"\"\"Lookup legal term definition\"\"\"\n",
        "    term_lower = term.lower()\n",
        "    return legal_dictionary.get(term_lower, f\"No definition found for {term}. Legal terms available: {', '.join(legal_dictionary.keys())}\")\n",
        "\n",
        "# Tool 2: Date Calculator for Legal Deadlines\n",
        "def calculate_deadline(days: str, start_date: str = None) -> str:\n",
        "    \"\"\"Calculate legal deadline\"\"\"\n",
        "    if start_date:\n",
        "        base_date = datetime.strptime(start_date, \"%Y-%m-%d\")\n",
        "    else:\n",
        "        base_date = datetime.now()\n",
        "    \n",
        "    deadline = base_date + timedelta(days=int(days))\n",
        "    return f\"Deadline: {deadline.strftime('%Y-%m-%d')} ({days} days from {base_date.strftime('%Y-%m-%d')})\"\n",
        "\n",
        "# Tool 3: Case Lookup (Mock - would integrate with Indian Kanoon API)\n",
        "def lookup_legal_case(case_reference: str) -> str:\n",
        "    \"\"\"Lookup legal case information\"\"\"\n",
        "    # Mock implementation - would fetch from Indian Kanoon API\n",
        "    return f\"Case information for {case_reference}: This would fetch real case data from Indian Kanoon API or Court Listener. Example: Case facts, judgment, citations, etc.\"\n",
        "\n",
        "# Create tools\n",
        "tools = [\n",
        "    Tool(\n",
        "        name=\"Legal Dictionary\",\n",
        "        func=lookup_legal_term,\n",
        "        description=\"Lookup definitions of legal terms like IPC, CrPC, bail, murder, theft, etc.\"\n",
        "    ),\n",
        "    Tool(\n",
        "        name=\"Date Calculator\",\n",
        "        func=calculate_deadline,\n",
        "        description=\"Calculate legal deadlines and limitation periods. Input: number of days and optional start date (YYYY-MM-DD)\"\n",
        "    ),\n",
        "    Tool(\n",
        "        name=\"Case Lookup\",\n",
        "        func=lookup_legal_case,\n",
        "        description=\"Lookup information about specific legal cases by case reference number\"\n",
        "    )\n",
        "]\n",
        "\n",
        "print(f\"Created {len(tools)} legal tools\")\n"
      ]
    },
    {
      "cell_type": "markdown",
      "metadata": {},
      "source": [
        "## Step 2: Test Tool Invocation\n"
      ]
    },
    {
      "cell_type": "code",
      "execution_count": null,
      "metadata": {},
      "outputs": [],
      "source": [
        "# Test tools\n",
        "print(\"=\" * 60)\n",
        "print(\"Testing Legal Dictionary Tool:\")\n",
        "print(lookup_legal_term(\"IPC\"))\n",
        "print(lookup_legal_term(\"bail\"))\n",
        "print(\"\\n\" + \"=\" * 60)\n",
        "\n",
        "print(\"\\nTesting Date Calculator Tool:\")\n",
        "print(calculate_deadline(\"90\"))\n",
        "print(calculate_deadline(\"30\", \"2024-01-01\"))\n",
        "print(\"\\n\" + \"=\" * 60)\n",
        "\n",
        "print(\"\\nTesting Case Lookup Tool:\")\n",
        "print(lookup_legal_case(\"State v. Defendant\"))\n",
        "print(\"\\n\" + \"=\" * 60)\n"
      ]
    },
    {
      "cell_type": "markdown",
      "metadata": {},
      "source": [
        "## Summary\n",
        "\n",
        "Phase 5 demonstrates tool integration structure. For full implementation:\n",
        "1. Integrate with fine-tuned model from Phase 2\n",
        "2. Use LangChain Agent to decide when to call tools\n",
        "3. Show tool traces in responses\n",
        "4. Handle multi-step tool usage\n",
        "\n",
        "**Deliverables:**\n",
        "- Tool definitions ready\n",
        "- Integration ready for Gradio app\n",
        "- Screenshots of tool calls\n",
        "\n",
        "**Integration Notes:**\n",
        "- Tools are ready to be used with agent-based LLM\n",
        "- Can be integrated in Phase 6 Gradio deployment\n",
        "- Tool traces will be visible to users for transparency\n"
      ]
    }
  ],
  "metadata": {
    "language_info": {
      "name": "python"
    }
  },
  "nbformat": 4,
  "nbformat_minor": 2
}
