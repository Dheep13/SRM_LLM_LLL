{
 "cells": [
  {
   "cell_type": "code",
   "execution_count": null,
   "metadata": {},
   "outputs": [],
   "source": [
    "\n"
   ]
  },
  {
   "cell_type": "markdown",
   "metadata": {
    "id": "kJbdSiagdhXs"
   },
   "source": [
    "# Phase 5: Tool Calling Integration for LawBot\n",
    "\n",
    "## Objectives:\n",
    "1. Define legal tools: case lookup, legal dictionary, date calculator\n",
    "2. Implement LangChain Agent with tool binding\n",
    "3. Test tool invocation\n",
    "4. Add tool traces for transparency\n"
   ]
  },
  {
   "cell_type": "code",
   "execution_count": 1,
   "metadata": {
    "colab": {
     "base_uri": "https://localhost:8080/"
    },
    "executionInfo": {
     "elapsed": 32233,
     "status": "ok",
     "timestamp": 1761632242552,
     "user": {
      "displayName": "Deepan Shanmugam",
      "userId": "10513139089640654961"
     },
     "user_tz": -330
    },
    "id": "p2q37q6gdhXz",
    "outputId": "6a2f83a8-2d63-408b-bb44-dc8426a2d7bd"
   },
   "outputs": [
    {
     "name": "stdout",
     "output_type": "stream",
     "text": [
      "Requirement already satisfied: langchain in /usr/local/lib/python3.12/dist-packages (0.3.27)\n",
      "Collecting langchain-community\n",
      "  Downloading langchain_community-0.4.1-py3-none-any.whl.metadata (3.0 kB)\n",
      "Requirement already satisfied: requests in /usr/local/lib/python3.12/dist-packages (2.32.4)\n",
      "Requirement already satisfied: beautifulsoup4 in /usr/local/lib/python3.12/dist-packages (4.13.5)\n",
      "Requirement already satisfied: langchain-core<1.0.0,>=0.3.72 in /usr/local/lib/python3.12/dist-packages (from langchain) (0.3.79)\n",
      "Requirement already satisfied: langchain-text-splitters<1.0.0,>=0.3.9 in /usr/local/lib/python3.12/dist-packages (from langchain) (0.3.11)\n",
      "Requirement already satisfied: langsmith>=0.1.17 in /usr/local/lib/python3.12/dist-packages (from langchain) (0.4.37)\n",
      "Requirement already satisfied: pydantic<3.0.0,>=2.7.4 in /usr/local/lib/python3.12/dist-packages (from langchain) (2.11.10)\n",
      "Requirement already satisfied: SQLAlchemy<3,>=1.4 in /usr/local/lib/python3.12/dist-packages (from langchain) (2.0.44)\n",
      "Requirement already satisfied: PyYAML>=5.3 in /usr/local/lib/python3.12/dist-packages (from langchain) (6.0.3)\n",
      "INFO: pip is looking at multiple versions of langchain-community to determine which version is compatible with other requirements. This could take a while.\n",
      "  Downloading langchain_community-0.4-py3-none-any.whl.metadata (3.0 kB)\n",
      "  Downloading langchain_community-0.3.31-py3-none-any.whl.metadata (3.0 kB)\n",
      "Collecting requests\n",
      "  Downloading requests-2.32.5-py3-none-any.whl.metadata (4.9 kB)\n",
      "Requirement already satisfied: aiohttp<4.0.0,>=3.8.3 in /usr/local/lib/python3.12/dist-packages (from langchain-community) (3.13.1)\n",
      "Requirement already satisfied: tenacity!=8.4.0,<10.0.0,>=8.1.0 in /usr/local/lib/python3.12/dist-packages (from langchain-community) (8.5.0)\n",
      "Collecting dataclasses-json<0.7.0,>=0.6.7 (from langchain-community)\n",
      "  Downloading dataclasses_json-0.6.7-py3-none-any.whl.metadata (25 kB)\n",
      "Requirement already satisfied: pydantic-settings<3.0.0,>=2.10.1 in /usr/local/lib/python3.12/dist-packages (from langchain-community) (2.11.0)\n",
      "Requirement already satisfied: httpx-sse<1.0.0,>=0.4.0 in /usr/local/lib/python3.12/dist-packages (from langchain-community) (0.4.3)\n",
      "Requirement already satisfied: numpy>=1.26.2 in /usr/local/lib/python3.12/dist-packages (from langchain-community) (2.0.2)\n",
      "Requirement already satisfied: charset_normalizer<4,>=2 in /usr/local/lib/python3.12/dist-packages (from requests) (3.4.4)\n",
      "Requirement already satisfied: idna<4,>=2.5 in /usr/local/lib/python3.12/dist-packages (from requests) (3.11)\n",
      "Requirement already satisfied: urllib3<3,>=1.21.1 in /usr/local/lib/python3.12/dist-packages (from requests) (2.5.0)\n",
      "Requirement already satisfied: certifi>=2017.4.17 in /usr/local/lib/python3.12/dist-packages (from requests) (2025.10.5)\n",
      "Requirement already satisfied: soupsieve>1.2 in /usr/local/lib/python3.12/dist-packages (from beautifulsoup4) (2.8)\n",
      "Requirement already satisfied: typing-extensions>=4.0.0 in /usr/local/lib/python3.12/dist-packages (from beautifulsoup4) (4.15.0)\n",
      "Requirement already satisfied: aiohappyeyeballs>=2.5.0 in /usr/local/lib/python3.12/dist-packages (from aiohttp<4.0.0,>=3.8.3->langchain-community) (2.6.1)\n",
      "Requirement already satisfied: aiosignal>=1.4.0 in /usr/local/lib/python3.12/dist-packages (from aiohttp<4.0.0,>=3.8.3->langchain-community) (1.4.0)\n",
      "Requirement already satisfied: attrs>=17.3.0 in /usr/local/lib/python3.12/dist-packages (from aiohttp<4.0.0,>=3.8.3->langchain-community) (25.4.0)\n",
      "Requirement already satisfied: frozenlist>=1.1.1 in /usr/local/lib/python3.12/dist-packages (from aiohttp<4.0.0,>=3.8.3->langchain-community) (1.8.0)\n",
      "Requirement already satisfied: multidict<7.0,>=4.5 in /usr/local/lib/python3.12/dist-packages (from aiohttp<4.0.0,>=3.8.3->langchain-community) (6.7.0)\n",
      "Requirement already satisfied: propcache>=0.2.0 in /usr/local/lib/python3.12/dist-packages (from aiohttp<4.0.0,>=3.8.3->langchain-community) (0.4.1)\n",
      "Requirement already satisfied: yarl<2.0,>=1.17.0 in /usr/local/lib/python3.12/dist-packages (from aiohttp<4.0.0,>=3.8.3->langchain-community) (1.22.0)\n",
      "Collecting marshmallow<4.0.0,>=3.18.0 (from dataclasses-json<0.7.0,>=0.6.7->langchain-community)\n",
      "  Downloading marshmallow-3.26.1-py3-none-any.whl.metadata (7.3 kB)\n",
      "Collecting typing-inspect<1,>=0.4.0 (from dataclasses-json<0.7.0,>=0.6.7->langchain-community)\n",
      "  Downloading typing_inspect-0.9.0-py3-none-any.whl.metadata (1.5 kB)\n",
      "Requirement already satisfied: jsonpatch<2.0.0,>=1.33.0 in /usr/local/lib/python3.12/dist-packages (from langchain-core<1.0.0,>=0.3.72->langchain) (1.33)\n",
      "Requirement already satisfied: packaging<26.0.0,>=23.2.0 in /usr/local/lib/python3.12/dist-packages (from langchain-core<1.0.0,>=0.3.72->langchain) (25.0)\n",
      "Requirement already satisfied: httpx<1,>=0.23.0 in /usr/local/lib/python3.12/dist-packages (from langsmith>=0.1.17->langchain) (0.28.1)\n",
      "Requirement already satisfied: orjson>=3.9.14 in /usr/local/lib/python3.12/dist-packages (from langsmith>=0.1.17->langchain) (3.11.3)\n",
      "Requirement already satisfied: requests-toolbelt>=1.0.0 in /usr/local/lib/python3.12/dist-packages (from langsmith>=0.1.17->langchain) (1.0.0)\n",
      "Requirement already satisfied: zstandard>=0.23.0 in /usr/local/lib/python3.12/dist-packages (from langsmith>=0.1.17->langchain) (0.25.0)\n",
      "Requirement already satisfied: annotated-types>=0.6.0 in /usr/local/lib/python3.12/dist-packages (from pydantic<3.0.0,>=2.7.4->langchain) (0.7.0)\n",
      "Requirement already satisfied: pydantic-core==2.33.2 in /usr/local/lib/python3.12/dist-packages (from pydantic<3.0.0,>=2.7.4->langchain) (2.33.2)\n",
      "Requirement already satisfied: typing-inspection>=0.4.0 in /usr/local/lib/python3.12/dist-packages (from pydantic<3.0.0,>=2.7.4->langchain) (0.4.2)\n",
      "Requirement already satisfied: python-dotenv>=0.21.0 in /usr/local/lib/python3.12/dist-packages (from pydantic-settings<3.0.0,>=2.10.1->langchain-community) (1.1.1)\n",
      "Requirement already satisfied: greenlet>=1 in /usr/local/lib/python3.12/dist-packages (from SQLAlchemy<3,>=1.4->langchain) (3.2.4)\n",
      "Requirement already satisfied: anyio in /usr/local/lib/python3.12/dist-packages (from httpx<1,>=0.23.0->langsmith>=0.1.17->langchain) (4.11.0)\n",
      "Requirement already satisfied: httpcore==1.* in /usr/local/lib/python3.12/dist-packages (from httpx<1,>=0.23.0->langsmith>=0.1.17->langchain) (1.0.9)\n",
      "Requirement already satisfied: h11>=0.16 in /usr/local/lib/python3.12/dist-packages (from httpcore==1.*->httpx<1,>=0.23.0->langsmith>=0.1.17->langchain) (0.16.0)\n",
      "Requirement already satisfied: jsonpointer>=1.9 in /usr/local/lib/python3.12/dist-packages (from jsonpatch<2.0.0,>=1.33.0->langchain-core<1.0.0,>=0.3.72->langchain) (3.0.0)\n",
      "Collecting mypy-extensions>=0.3.0 (from typing-inspect<1,>=0.4.0->dataclasses-json<0.7.0,>=0.6.7->langchain-community)\n",
      "  Downloading mypy_extensions-1.1.0-py3-none-any.whl.metadata (1.1 kB)\n",
      "Requirement already satisfied: sniffio>=1.1 in /usr/local/lib/python3.12/dist-packages (from anyio->httpx<1,>=0.23.0->langsmith>=0.1.17->langchain) (1.3.1)\n",
      "Downloading langchain_community-0.3.31-py3-none-any.whl (2.5 MB)\n",
      "\u001b[2K   \u001b[90m━━━━━━━━━━━━━━━━━━━━━━━━━━━━━━━━━━━━━━━━\u001b[0m \u001b[32m2.5/2.5 MB\u001b[0m \u001b[31m18.2 MB/s\u001b[0m eta \u001b[36m0:00:00\u001b[0m\n",
      "\u001b[?25hDownloading requests-2.32.5-py3-none-any.whl (64 kB)\n",
      "\u001b[2K   \u001b[90m━━━━━━━━━━━━━━━━━━━━━━━━━━━━━━━━━━━━━━━━\u001b[0m \u001b[32m64.7/64.7 kB\u001b[0m \u001b[31m3.0 MB/s\u001b[0m eta \u001b[36m0:00:00\u001b[0m\n",
      "\u001b[?25hDownloading dataclasses_json-0.6.7-py3-none-any.whl (28 kB)\n",
      "Downloading marshmallow-3.26.1-py3-none-any.whl (50 kB)\n",
      "\u001b[2K   \u001b[90m━━━━━━━━━━━━━━━━━━━━━━━━━━━━━━━━━━━━━━━━\u001b[0m \u001b[32m50.9/50.9 kB\u001b[0m \u001b[31m1.3 MB/s\u001b[0m eta \u001b[36m0:00:00\u001b[0m\n",
      "\u001b[?25hDownloading typing_inspect-0.9.0-py3-none-any.whl (8.8 kB)\n",
      "Downloading mypy_extensions-1.1.0-py3-none-any.whl (5.0 kB)\n",
      "Installing collected packages: requests, mypy-extensions, marshmallow, typing-inspect, dataclasses-json, langchain-community\n",
      "  Attempting uninstall: requests\n",
      "    Found existing installation: requests 2.32.4\n",
      "    Uninstalling requests-2.32.4:\n",
      "      Successfully uninstalled requests-2.32.4\n",
      "\u001b[31mERROR: pip's dependency resolver does not currently take into account all the packages that are installed. This behaviour is the source of the following dependency conflicts.\n",
      "google-colab 1.0.0 requires requests==2.32.4, but you have requests 2.32.5 which is incompatible.\u001b[0m\u001b[31m\n",
      "\u001b[0mSuccessfully installed dataclasses-json-0.6.7 langchain-community-0.3.31 marshmallow-3.26.1 mypy-extensions-1.1.0 requests-2.32.5 typing-inspect-0.9.0\n",
      "Libraries installed successfully\n"
     ]
    }
   ],
   "source": [
    "%pip install langchain langchain-community requests beautifulsoup4\n",
    "\n",
    "from langchain.agents import Tool, AgentExecutor, create_openai_functions_agent\n",
    "from langchain.llms import HuggingFacePipeline\n",
    "from langchain.prompts import PromptTemplate\n",
    "import requests\n",
    "from bs4 import BeautifulSoup\n",
    "from datetime import datetime, timedelta\n",
    "import json\n",
    "\n",
    "print(\"Libraries installed successfully\")\n"
   ]
  },
  {
   "cell_type": "markdown",
   "metadata": {
    "id": "mJXyk8XqdhX4"
   },
   "source": [
    "## Step 1: Define Legal Tools\n"
   ]
  },
  {
   "cell_type": "code",
   "execution_count": 2,
   "metadata": {
    "colab": {
     "base_uri": "https://localhost:8080/"
    },
    "executionInfo": {
     "elapsed": 33,
     "status": "ok",
     "timestamp": 1761632242571,
     "user": {
      "displayName": "Deepan Shanmugam",
      "userId": "10513139089640654961"
     },
     "user_tz": -330
    },
    "id": "y6DhbcMAdhX5",
    "outputId": "5eac62ce-454b-471f-bde7-5f54cea155ba"
   },
   "outputs": [
    {
     "name": "stdout",
     "output_type": "stream",
     "text": [
      "Created 3 legal tools\n"
     ]
    }
   ],
   "source": [
    "# Tool 1: Legal Dictionary\n",
    "legal_dictionary = {\n",
    "    \"ipc\": \"Indian Penal Code - Criminal law of India\",\n",
    "    \"crpc\": \"Code of Criminal Procedure - Procedure for criminal cases\",\n",
    "    \"constitution\": \"Constitution of India - Supreme law of India\",\n",
    "    \"bail\": \"Release of accused from custody pending trial\",\n",
    "    \"arrest\": \"Taking of a person into custody for alleged offence\",\n",
    "    \"murder\": \"Causing death with intention under IPC Section 300\",\n",
    "    \"theft\": \"Taking movable property without consent under IPC Section 378\",\n",
    "}\n",
    "\n",
    "def lookup_legal_term(term: str) -> str:\n",
    "    \"\"\"Lookup legal term definition\"\"\"\n",
    "    term_lower = term.lower()\n",
    "    return legal_dictionary.get(term_lower, f\"No definition found for {term}. Legal terms available: {', '.join(legal_dictionary.keys())}\")\n",
    "\n",
    "# Tool 2: Date Calculator for Legal Deadlines\n",
    "def calculate_deadline(days: str, start_date: str = None) -> str:\n",
    "    \"\"\"Calculate legal deadline\"\"\"\n",
    "    if start_date:\n",
    "        base_date = datetime.strptime(start_date, \"%Y-%m-%d\")\n",
    "    else:\n",
    "        base_date = datetime.now()\n",
    "\n",
    "    deadline = base_date + timedelta(days=int(days))\n",
    "    return f\"Deadline: {deadline.strftime('%Y-%m-%d')} ({days} days from {base_date.strftime('%Y-%m-%d')})\"\n",
    "\n",
    "# Tool 3: Case Lookup (Mock - would integrate with Indian Kanoon API)\n",
    "def lookup_legal_case(case_reference: str) -> str:\n",
    "    \"\"\"Lookup legal case information\"\"\"\n",
    "    # Mock implementation - would fetch from Indian Kanoon API\n",
    "    return f\"Case information for {case_reference}: This would fetch real case data from Indian Kanoon API or Court Listener. Example: Case facts, judgment, citations, etc.\"\n",
    "\n",
    "# Create tools\n",
    "tools = [\n",
    "    Tool(\n",
    "        name=\"Legal Dictionary\",\n",
    "        func=lookup_legal_term,\n",
    "        description=\"Lookup definitions of legal terms like IPC, CrPC, bail, murder, theft, etc.\"\n",
    "    ),\n",
    "    Tool(\n",
    "        name=\"Date Calculator\",\n",
    "        func=calculate_deadline,\n",
    "        description=\"Calculate legal deadlines and limitation periods. Input: number of days and optional start date (YYYY-MM-DD)\"\n",
    "    ),\n",
    "    Tool(\n",
    "        name=\"Case Lookup\",\n",
    "        func=lookup_legal_case,\n",
    "        description=\"Lookup information about specific legal cases by case reference number\"\n",
    "    )\n",
    "]\n",
    "\n",
    "print(f\"Created {len(tools)} legal tools\")\n"
   ]
  },
  {
   "cell_type": "markdown",
   "metadata": {
    "id": "ZB8HGaIFdhX6"
   },
   "source": [
    "## Step 2: Test Tool Invocation\n"
   ]
  },
  {
   "cell_type": "code",
   "execution_count": 3,
   "metadata": {
    "colab": {
     "base_uri": "https://localhost:8080/"
    },
    "executionInfo": {
     "elapsed": 11,
     "status": "ok",
     "timestamp": 1761632257685,
     "user": {
      "displayName": "Deepan Shanmugam",
      "userId": "10513139089640654961"
     },
     "user_tz": -330
    },
    "id": "fjNppw3tdhX8",
    "outputId": "4e009be0-c7de-4f98-f2ab-da3a54ca9022"
   },
   "outputs": [
    {
     "name": "stdout",
     "output_type": "stream",
     "text": [
      "============================================================\n",
      "Testing Legal Dictionary Tool:\n",
      "Indian Penal Code - Criminal law of India\n",
      "Release of accused from custody pending trial\n",
      "\n",
      "============================================================\n",
      "\n",
      "Testing Date Calculator Tool:\n",
      "Deadline: 2026-01-26 (90 days from 2025-10-28)\n",
      "Deadline: 2024-01-31 (30 days from 2024-01-01)\n",
      "\n",
      "============================================================\n",
      "\n",
      "Testing Case Lookup Tool:\n",
      "Case information for State v. Defendant: This would fetch real case data from Indian Kanoon API or Court Listener. Example: Case facts, judgment, citations, etc.\n",
      "\n",
      "============================================================\n"
     ]
    }
   ],
   "source": [
    "# Test tools\n",
    "print(\"=\" * 60)\n",
    "print(\"Testing Legal Dictionary Tool:\")\n",
    "print(lookup_legal_term(\"IPC\"))\n",
    "print(lookup_legal_term(\"bail\"))\n",
    "print(\"\\n\" + \"=\" * 60)\n",
    "\n",
    "print(\"\\nTesting Date Calculator Tool:\")\n",
    "print(calculate_deadline(\"90\"))\n",
    "print(calculate_deadline(\"30\", \"2024-01-01\"))\n",
    "print(\"\\n\" + \"=\" * 60)\n",
    "\n",
    "print(\"\\nTesting Case Lookup Tool:\")\n",
    "print(lookup_legal_case(\"State v. Defendant\"))\n",
    "print(\"\\n\" + \"=\" * 60)\n"
   ]
  },
  {
   "cell_type": "markdown",
   "metadata": {
    "id": "dC_qSJB0dhX9"
   },
   "source": [
    "## Summary\n",
    "\n",
    "Phase 5 demonstrates tool integration structure. For full implementation:\n",
    "1. Integrate with fine-tuned model from Phase 2\n",
    "2. Use LangChain Agent to decide when to call tools\n",
    "3. Show tool traces in responses\n",
    "4. Handle multi-step tool usage\n",
    "\n",
    "**Deliverables:**\n",
    "- Tool definitions ready\n",
    "- Integration ready for Gradio app\n",
    "- Screenshots of tool calls\n",
    "\n",
    "**Integration Notes:**\n",
    "- Tools are ready to be used with agent-based LLM\n",
    "- Can be integrated in Phase 6 Gradio deployment\n",
    "- Tool traces will be visible to users for transparency\n"
   ]
  }
 ],
 "metadata": {
  "colab": {
   "provenance": []
  },
  "kernelspec": {
   "display_name": "Python 3",
   "name": "python3"
  },
  "language_info": {
   "name": "python"
  }
 },
 "nbformat": 4,
 "nbformat_minor": 0
}
